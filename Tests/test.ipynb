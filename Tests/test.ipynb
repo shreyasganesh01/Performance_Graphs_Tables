{
 "cells": [
  {
   "cell_type": "code",
   "execution_count": 7,
   "metadata": {},
   "outputs": [
    {
     "data": {
      "text/plain": [
       "[<matplotlib.lines.Line2D at 0x13c1ca410>]"
      ]
     },
     "execution_count": 7,
     "metadata": {},
     "output_type": "execute_result"
    },
    {
     "data": {
      "image/png": "[encoded data removed]",
      "text/plain": [
       "<Figure size 432x288 with 1 Axes>"
      ]
     },
     "metadata": {
      "needs_background": "light"
     },
     "output_type": "display_data"
    }
   ],
   "source": [
    "import pandas as pd\n",
    "import matplotlib.pyplot as plt\n",
    "import numpy as np\n",
    "import datetime\n",
    "\n",
    "df = pd.read_csv(\"c4.csv\")\n",
    "test=df[[\"id\",\"received_at\",\"enqueued_at\"]]\n",
    "#test['received_at'] = pd.to_datetime(df['received_at'], format='%Y-%m-%d %H:%M:%S')\n",
    "\n",
    "#test['enqueued_at'] = pd.to_datetime(df['enqueued_at'], format='%Y-%m-%d %H:%M:%S')\n",
    "X=test.iloc[:,0].values.reshape(-1,1)\n",
    "Yr=test.iloc[:,1].values.reshape(-1,1)\n",
    "Ye=test.iloc[:,2].values.reshape(-1,1)\n",
    "Yrd=[]\n",
    "Yed=[]\n",
    "Yres=[]\n",
    "Yresn=[]\n",
    "for i in Yr:\n",
    "    x=datetime.datetime.strptime(i[0], '%Y-%m-%d %H:%M:%S').timestamp()\n",
    "    Yrd.append(x)\n",
    "for i in Ye:\n",
    "    x=datetime.datetime.strptime(i[0], '%Y-%m-%d %H:%M:%S').timestamp()\n",
    "    Yed.append(x)\n",
    "for i in range(len(Yed)):\n",
    "    diff=Yrd[i]-Yed[i] \n",
    "    Yres.append(diff)\n",
    "Yresnp=np.array(Yres)\n",
    "plt.plot(X,Yresnp)\n"
   ]
  }
 ],
 "metadata": {
  "kernelspec": {
   "display_name": "Python 3.10.5 64-bit",
   "language": "python",
   "name": "python3"
  },
  "language_info": {
   "codemirror_mode": {
    "name": "ipython",
    "version": 3
   },
   "file_extension": ".py",
   "mimetype": "text/x-python",
   "name": "python",
   "nbconvert_exporter": "python",
   "pygments_lexer": "ipython3",
   "version": "3.10.5"
  },
  "orig_nbformat": 4,
  "vscode": {
   "interpreter": {
    "hash": "aee8b7b246df8f9039afb4144a1f6fd8d2ca17a180786b69acc140d282b71a49"
   }
  }
 },
 "nbformat": 4,
 "nbformat_minor": 2
}
